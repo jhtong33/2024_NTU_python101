{
 "cells": [
  {
   "cell_type": "code",
   "execution_count": 27,
   "id": "b41609c4-3b18-4aa0-bba3-7ce16c3aada7",
   "metadata": {},
   "outputs": [],
   "source": [
    "from obspy.clients.fdsn.client import Client\n",
    "from obspy import UTCDateTime\n",
    "import pandas as pd"
   ]
  },
  {
   "cell_type": "code",
   "execution_count": 19,
   "id": "3b7ef363-639d-44dd-8ee4-07c63757c3cb",
   "metadata": {},
   "outputs": [],
   "source": [
    "client = Client(\"IRIS\")\n",
    "cat = client.get_events(\n",
    "    starttime=UTCDateTime(2023, 1, 1),\n",
    "    endtime=UTCDateTime(2024, 1, 1,), \n",
    "    latitude = 24.9754, \n",
    "    longitude = 121.4881,\n",
    "    maxradius = 60,\n",
    "    orderby = 'time'\n",
    ")  "
   ]
  },
  {
   "cell_type": "code",
   "execution_count": 29,
   "id": "c21518ad-4127-426e-a85c-e9eb62681be0",
   "metadata": {},
   "outputs": [],
   "source": [
    "df = {'time':[],\n",
    "     'lon':[],\n",
    "     'lat':[],\n",
    "     'depth':[],\n",
    "     'mag':[]}\n",
    "\n",
    "for i in range(len(cat)):\n",
    "    time = cat[i].origins[0].time\n",
    "    lon = cat[i].origins[0].longitude\n",
    "    lat = cat[i].origins[0].latitude\n",
    "    depth = cat[i].origins[0].depth/1000\n",
    "    mag = cat[i].magnitudes[0].mag\n",
    "    \n",
    "    df['time'].append(time)\n",
    "    df['lon'].append(lon)\n",
    "    df['lat'].append(lat)\n",
    "    df['depth'].append(depth)\n",
    "    df['mag'].append(mag)\n",
    "    \n",
    "df = pd.DataFrame(df)\n",
    "df.to_csv('Events_nearTaiwan_2023.csv', index=False)"
   ]
  },
  {
   "cell_type": "code",
   "execution_count": 26,
   "id": "a3972247-b3b0-402c-a622-a2fbaa0eb804",
   "metadata": {},
   "outputs": [
    {
     "data": {
      "text/plain": [
       "Magnitude\n",
       "\t    resource_id: ResourceIdentifier(id=\"smi:service.iris.edu/fdsnws/event/1/query?magnitudeid=214662844\")\n",
       "\t            mag: 4.2\n",
       "\t magnitude_type: 'mb'\n",
       "\t  creation_info: CreationInfo(author='us')"
      ]
     },
     "execution_count": 26,
     "metadata": {},
     "output_type": "execute_result"
    }
   ],
   "source": [
    "cat[0].magnitudes[0].mag"
   ]
  },
  {
   "cell_type": "code",
   "execution_count": null,
   "id": "242f2554-9bb9-4493-ba8e-0aeb22687f27",
   "metadata": {},
   "outputs": [],
   "source": []
  }
 ],
 "metadata": {
  "kernelspec": {
   "display_name": "Python 3 (ipykernel)",
   "language": "python",
   "name": "python3"
  },
  "language_info": {
   "codemirror_mode": {
    "name": "ipython",
    "version": 3
   },
   "file_extension": ".py",
   "mimetype": "text/x-python",
   "name": "python",
   "nbconvert_exporter": "python",
   "pygments_lexer": "ipython3",
   "version": "3.10.13"
  }
 },
 "nbformat": 4,
 "nbformat_minor": 5
}
