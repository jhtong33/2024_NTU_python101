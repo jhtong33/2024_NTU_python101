{
 "cells": [
  {
   "cell_type": "markdown",
   "id": "e0003fb1",
   "metadata": {},
   "source": [
    "# Python 101- matplotlib 繪圖\n",
    "##### 2024 Dep. of Geosciences, NTU\n",
    "###### Jing-Hui Tong 2024/11/22"
   ]
  },
  {
   "cell_type": "code",
   "execution_count": null,
   "id": "2afb5a72",
   "metadata": {},
   "outputs": [],
   "source": [
    "import matplotlib.pyplot as plt\n",
    "import numpy as np\n",
    "import pandas as pd"
   ]
  },
  {
   "cell_type": "code",
   "execution_count": null,
   "id": "d2d64c2b",
   "metadata": {},
   "outputs": [],
   "source": [
    "x = np.linspace(-1,1,50) ### -1~1之間取50個點\n",
    "y = x**2"
   ]
  },
  {
   "cell_type": "code",
   "execution_count": null,
   "id": "d5fb7a26",
   "metadata": {},
   "outputs": [],
   "source": [
    "plt.figure(figsize=(10,5)) ## 註解inches\n",
    "plt.plot(x,y,color='b',linewidth=5, label='$x^2$')\n",
    "plt.plot(x,-y,color='g',lw=3, label='QQQ')\n",
    "plt.legend() ##圖例\n",
    "plt.show()"
   ]
  },
  {
   "cell_type": "code",
   "execution_count": null,
   "id": "e88cfe64",
   "metadata": {},
   "outputs": [],
   "source": [
    "plt.figure(figsize=(6,4))\n",
    "plt.plot(x, y, color='blue', linewidth=5, ls=\"--\")\n",
    "\n",
    "\n",
    "plt.xlabel('X',fontsize=25)\n",
    "plt.ylabel('Y',fontsize=15)\n",
    "plt.title('Function: Y=$x^2$')\n",
    "# plt.xticks(np.arange(-1,1.4, 0.5))\n",
    "plt.xticks(np.linspace(-1,1.4, 5))\n",
    "\n",
    "# np.arange(-1,1.4, 0.5) -> np.linspace(?????)\n",
    "\n",
    "plt.xlim(-1,1)\n",
    "plt.ylim(-0.5,4)\n",
    "\n",
    "# plt.grid()\n",
    "plt.grid(axis='x')\n",
    "\n",
    "plt.show()"
   ]
  },
  {
   "cell_type": "code",
   "execution_count": null,
   "id": "4aafcc0c",
   "metadata": {},
   "outputs": [],
   "source": [
    "x"
   ]
  },
  {
   "cell_type": "code",
   "execution_count": null,
   "id": "f3fa60e3",
   "metadata": {},
   "outputs": [],
   "source": [
    "plt.plot(x, y, color=\"red\", marker='o',ls='-', markersize= 10)"
   ]
  },
  {
   "cell_type": "code",
   "execution_count": null,
   "id": "f41efed1",
   "metadata": {},
   "outputs": [],
   "source": [
    "plt.scatter(x, y, color=\"g\", marker='o', s=10) ##s - marker size "
   ]
  },
  {
   "cell_type": "code",
   "execution_count": null,
   "id": "0ec28683",
   "metadata": {},
   "outputs": [],
   "source": [
    "plt.figure(figsize=(10,4))\n",
    "\n",
    "x=np.linspace(0,10,100)\n",
    "\n",
    "plt.subplot(121)\n",
    "plt.plot(x,np.sin(x),color='green',linestyle=\"--\")\n",
    "plt.xlim(0,10)\n",
    "plt.ylim(-2,1.2)\n",
    "plt.xlabel('X')\n",
    "\n",
    "plt.subplot(122)\n",
    "y=np.sin(x)+np.cos(2*x)\n",
    "plt.plot(x,y,color='green',linestyle=\"--\")\n",
    "plt.xlim(0,10)\n",
    "plt.ylim(-2,1.2)\n",
    "plt.ylabel('Y')"
   ]
  },
  {
   "cell_type": "code",
   "execution_count": null,
   "id": "1a4dbce6",
   "metadata": {},
   "outputs": [],
   "source": []
  },
  {
   "cell_type": "code",
   "execution_count": null,
   "id": "74e0bc31-c567-49c5-b005-97a3617b2189",
   "metadata": {},
   "outputs": [],
   "source": []
  }
 ],
 "metadata": {
  "kernelspec": {
   "display_name": "Python 3 (ipykernel)",
   "language": "python",
   "name": "python3"
  },
  "language_info": {
   "codemirror_mode": {
    "name": "ipython",
    "version": 3
   },
   "file_extension": ".py",
   "mimetype": "text/x-python",
   "name": "python",
   "nbconvert_exporter": "python",
   "pygments_lexer": "ipython3",
   "version": "3.12.2"
  }
 },
 "nbformat": 4,
 "nbformat_minor": 5
}
