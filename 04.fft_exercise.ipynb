{
 "cells": [
  {
   "cell_type": "code",
   "execution_count": 3,
   "id": "916974af-ba63-4097-94e4-a17e1c76252d",
   "metadata": {},
   "outputs": [],
   "source": [
    "import obspy\n",
    "import matplotlib.pyplot as plt\n",
    "from obspy import UTCDateTime\n",
    "from obspy.geodetics.base import gps2dist_azimuth, kilometers2degrees\n",
    "from obspy.clients.fdsn.client import Client\n",
    "client = Client(\"IRIS\")\n",
    "\n",
    "from obspy.taup import TauPyModel\n",
    "model = TauPyModel(model=\"iasp91\")\n",
    "\n",
    "from matplotlib import cm\n",
    "import matplotlib.mlab as mlab\n",
    "from obspy.signal.util import next_pow_2"
   ]
  },
  {
   "cell_type": "markdown",
   "id": "ad03a686-cc8a-4f28-a5e2-a35f87e02311",
   "metadata": {},
   "source": [
    "### Pratice (extended the pratice of last week)\n",
    "\n",
    "1. 使用一個測站的地震波形(after `detrend`, `remove_response`)，畫出(a) 頻譜圖(frequency vs. amplitude)，並使用`mlab.specgram`畫(b) 時頻圖 spectrogram (`channels: BHZ, BHN, BHE`)\n",
    "2. 使用`client.get_waveforms`下載上週step 1 & 2 的地震波形 (`channels: BHZ, BHN, BHE`)\n",
    "3. 使用迴圈，畫出(c) 三個component的travel time curve；同時，計算BHZ的P波SNR，BHN與BHE的S波SNR\n",
    "4. 重複step 3，但(d)地震波形須經過濾波(`filter`)，根據step1的觀察選擇濾波範圍，並將濾波資訊寫在圖上(e.g., b.p. 0.1–1 Hz)\n",
    "5. (e)畫地圖：將地震位置與測站使用`pygmt`畫圖\n",
    "6. 將這兩週的練習整理成2-3張slides(包含a-e圖)，並嘗試每張圖把你的觀察(或疑問)用文字寫出來\n",
    "#### Hints:\n",
    "\n",
    "* plt.subplots(1,3,figsize=(9,4)) # for step 3\n"
   ]
  },
  {
   "cell_type": "code",
   "execution_count": null,
   "id": "b93fcf01-4a39-4339-b851-9883260c2e9a",
   "metadata": {},
   "outputs": [],
   "source": []
  }
 ],
 "metadata": {
  "kernelspec": {
   "display_name": "Python 3 (ipykernel)",
   "language": "python",
   "name": "python3"
  },
  "language_info": {
   "codemirror_mode": {
    "name": "ipython",
    "version": 3
   },
   "file_extension": ".py",
   "mimetype": "text/x-python",
   "name": "python",
   "nbconvert_exporter": "python",
   "pygments_lexer": "ipython3",
   "version": "3.12.8"
  }
 },
 "nbformat": 4,
 "nbformat_minor": 5
}
