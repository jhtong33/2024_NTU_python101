{
 "cells": [
  {
   "cell_type": "code",
   "execution_count": 4,
   "id": "d33ce157-1ace-4d03-8344-5cfd4efe96e4",
   "metadata": {},
   "outputs": [],
   "source": [
    "import obspy\n",
    "import matplotlib.pyplot as plt\n",
    "from obspy import UTCDateTime\n",
    "from obspy.geodetics.base import gps2dist_azimuth, kilometers2degrees\n",
    "from obspy.clients.fdsn.client import Client\n",
    "client = Client(\"IRIS\")\n",
    "\n",
    "from obspy.taup import TauPyModel\n",
    "model = TauPyModel(model=\"iasp91\")"
   ]
  },
  {
   "cell_type": "markdown",
   "id": "c68bd88d-255a-45d7-9a1f-c402fd934e69",
   "metadata": {},
   "source": [
    "## Pratice \n",
    "\n",
    "1. 使用`client.get_events`搜尋你有興趣的一顆地震 (e.g., 你最近印象深刻的、日本的地震、其他地區的地震等等)\n",
    "    * Reference: https://earthquake.usgs.gov/earthquakes/map\n",
    "2. 使用`client.get_stations`搜尋`network=TW`的地震站\n",
    "3. 使用`client.get_waveforms`下載step 1 & 2 的地震波形(`component=BHZ`)\n",
    "\n",
    "    * starttime & endtime 會根據地震與測站的距離決定要下載多長的時間\n",
    "    * 有可能會遇到某些測站的波形無法下載的狀況\n",
    "4. 使用迴圈，計算地震與每個測站的距離，並畫出x軸為時間、y軸為距離的圖\n",
    "\n",
    "    * 可以根據地震與測站的遠近決定y軸單位要用**km**還是**degree**\n",
    "    * 地震波形要移除儀器響應、移除線性平均等等再進行繪圖\n",
    "    \n",
    "5. 使用`model.get_travel_times`計算**P**波與**S**波的理論時間，確認自己畫的圖是否正確\n",
    "\n",
    "    * 也可以直接標記於圖上\n",
    "6. 儲存圖片\n",
    "\n",
    "    * 重要的地震資訊不能忘！\n",
    "    \n",
    "#### Hints:\n",
    "\n",
    "* plt.plot(time, data/max(data)+dist) # for step 4 \n",
    "* plt.text(P_arrival, dist, '|', color='red', fontsize=10) # for step 5\n",
    "\n",
    "#### Bonus: \n",
    "* Step 2 的測站資料利用`pandas`寫成csv "
   ]
  },
  {
   "cell_type": "markdown",
   "id": "6e3c3793-2cc6-43b6-9b13-6c5b8719e842",
   "metadata": {},
   "source": []
  },
  {
   "cell_type": "code",
   "execution_count": null,
   "id": "488d99aa-d92f-4e89-8f97-5a9a6a9de5ca",
   "metadata": {},
   "outputs": [],
   "source": []
  }
 ],
 "metadata": {
  "kernelspec": {
   "display_name": "Python 3 (ipykernel)",
   "language": "python",
   "name": "python3"
  },
  "language_info": {
   "codemirror_mode": {
    "name": "ipython",
    "version": 3
   },
   "file_extension": ".py",
   "mimetype": "text/x-python",
   "name": "python",
   "nbconvert_exporter": "python",
   "pygments_lexer": "ipython3",
   "version": "3.10.13"
  }
 },
 "nbformat": 4,
 "nbformat_minor": 5
}
